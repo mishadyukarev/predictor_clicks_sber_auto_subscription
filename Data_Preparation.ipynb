{
 "cells": [
  {
   "cell_type": "code",
   "execution_count": 1,
   "id": "initial_id",
   "metadata": {
    "collapsed": true,
    "ExecuteTime": {
     "end_time": "2023-10-20T09:51:10.390442700Z",
     "start_time": "2023-10-20T09:51:08.622900500Z"
    }
   },
   "outputs": [],
   "source": [
    "import pandas as pd\n",
    "import names as n\n",
    "import pipeline_manager"
   ]
  },
  {
   "cell_type": "raw",
   "source": [],
   "metadata": {
    "collapsed": false
   },
   "id": "79cf4301932223ee"
  },
  {
   "cell_type": "code",
   "execution_count": 2,
   "outputs": [],
   "source": [
    "filename = 'data/ga_hits.csv'\n",
    "ga_hits_df = pd.read_csv(filename, low_memory=False)\n",
    "\n",
    "filename = 'data/ga_sessions.csv'\n",
    "ga_sessions_df = pd.read_csv(filename, low_memory=False)\n",
    "\n",
    "df = pd.merge(ga_sessions_df, ga_hits_df, how=\"inner\", on='session_id')"
   ],
   "metadata": {
    "collapsed": false,
    "ExecuteTime": {
     "end_time": "2023-10-20T09:55:04.012617200Z",
     "start_time": "2023-10-20T09:51:10.392444400Z"
    }
   },
   "id": "5b034ff225bd4f5b"
  },
  {
   "cell_type": "raw",
   "source": [],
   "metadata": {
    "collapsed": false
   },
   "id": "608c000a180fcb4a"
  },
  {
   "cell_type": "code",
   "execution_count": 3,
   "outputs": [
    {
     "data": {
      "text/plain": "          visit_date visit_time  visit_number            utm_source  \\\n12337081  2021-06-24   15:00:00          75.0  jaSOmLICuBzCFqHfBdRg   \n\n         utm_medium          utm_campaign         utm_adcontent utm_keyword  \\\n12337081      email  LliRUcMuIXWdLyWHGyiO  sDWYAbLNiGZVxGBDdTxc        null   \n\n         device_category device_os device_brand device_model  \\\n12337081         desktop      null         null         null   \n\n         device_screen_resolution device_browser geo_country geo_city  \\\n12337081                 1280x720         Chrome      Russia   Moscow   \n\n          is_target  \n12337081          1  ",
      "text/html": "<div>\n<style scoped>\n    .dataframe tbody tr th:only-of-type {\n        vertical-align: middle;\n    }\n\n    .dataframe tbody tr th {\n        vertical-align: top;\n    }\n\n    .dataframe thead th {\n        text-align: right;\n    }\n</style>\n<table border=\"1\" class=\"dataframe\">\n  <thead>\n    <tr style=\"text-align: right;\">\n      <th></th>\n      <th>visit_date</th>\n      <th>visit_time</th>\n      <th>visit_number</th>\n      <th>utm_source</th>\n      <th>utm_medium</th>\n      <th>utm_campaign</th>\n      <th>utm_adcontent</th>\n      <th>utm_keyword</th>\n      <th>device_category</th>\n      <th>device_os</th>\n      <th>device_brand</th>\n      <th>device_model</th>\n      <th>device_screen_resolution</th>\n      <th>device_browser</th>\n      <th>geo_country</th>\n      <th>geo_city</th>\n      <th>is_target</th>\n    </tr>\n  </thead>\n  <tbody>\n    <tr>\n      <th>12337081</th>\n      <td>2021-06-24</td>\n      <td>15:00:00</td>\n      <td>75.0</td>\n      <td>jaSOmLICuBzCFqHfBdRg</td>\n      <td>email</td>\n      <td>LliRUcMuIXWdLyWHGyiO</td>\n      <td>sDWYAbLNiGZVxGBDdTxc</td>\n      <td>null</td>\n      <td>desktop</td>\n      <td>null</td>\n      <td>null</td>\n      <td>null</td>\n      <td>1280x720</td>\n      <td>Chrome</td>\n      <td>Russia</td>\n      <td>Moscow</td>\n      <td>1</td>\n    </tr>\n  </tbody>\n</table>\n</div>"
     },
     "execution_count": 3,
     "metadata": {},
     "output_type": "execute_result"
    }
   ],
   "source": [
    "df =  pipeline_manager.start_pl.fit_transform(df)\n",
    "df.head(1)"
   ],
   "metadata": {
    "collapsed": false,
    "ExecuteTime": {
     "end_time": "2023-10-20T09:56:15.527692900Z",
     "start_time": "2023-10-20T09:55:04.015153100Z"
    }
   },
   "id": "11f5983ebcd659f3"
  },
  {
   "cell_type": "code",
   "execution_count": 4,
   "outputs": [
    {
     "name": "stderr",
     "output_type": "stream",
     "text": [
      "C:\\Users\\misha\\anaconda3\\lib\\site-packages\\sklearn\\linear_model\\_logistic.py:460: ConvergenceWarning: lbfgs failed to converge (status=1):\n",
      "STOP: TOTAL NO. of ITERATIONS REACHED LIMIT.\n",
      "\n",
      "Increase the number of iterations (max_iter) or scale the data as shown in:\n",
      "    https://scikit-learn.org/stable/modules/preprocessing.html\n",
      "Please also refer to the documentation for alternative solver options:\n",
      "    https://scikit-learn.org/stable/modules/linear_model.html#logistic-regression\n",
      "  n_iter_i = _check_optimize_result(\n"
     ]
    },
    {
     "data": {
      "text/plain": "          device_category_desktop  device_category_mobile  \\\n12337081                      1.0                     0.0   \n3288869                       1.0                     0.0   \n10566794                      0.0                     1.0   \n\n          device_category_tablet  device_os_(not set)  device_os_Android  \\\n12337081                     0.0                  0.0                0.0   \n3288869                      0.0                  0.0                0.0   \n10566794                     0.0                  0.0                1.0   \n\n          device_os_Linux  device_os_Windows  device_os_iOS  \\\n12337081              0.0                0.0            0.0   \n3288869               0.0                0.0            0.0   \n10566794              0.0                0.0            0.0   \n\n          device_browser_Mozilla Compatible Agent  \\\n12337081                                      0.0   \n3288869                                       0.0   \n10566794                                      0.0   \n\n          device_browser_Safari (in-app)  ...  geo_city_customised_Penza  \\\n12337081                             0.0  ...                        0.0   \n3288869                              0.0  ...                        0.0   \n10566794                             0.0  ...                        0.0   \n\n          geo_city_customised_Prineville  geo_city_customised_Pyatigorsk  \\\n12337081                             0.0                             0.0   \n3288869                              0.0                             0.0   \n10566794                             0.0                             0.0   \n\n          geo_city_customised_Sochi  geo_city_customised_Stavropol  \\\n12337081                        0.0                            0.0   \n3288869                         0.0                            0.0   \n10566794                        0.0                            0.0   \n\n          geo_city_customised_Tomsk  geo_city_customised_Tyumen  \\\n12337081                        0.0                         0.0   \n3288869                         0.0                         0.0   \n10566794                        0.0                         0.0   \n\n          geo_city_customised_Vladimir  geo_city_customised_Volgograd  \\\n12337081                           0.0                            0.0   \n3288869                            0.0                            0.0   \n10566794                           0.0                            0.0   \n\n          geo_city_customised_Voronezh  \n12337081                           0.0  \n3288869                            0.0  \n10566794                           0.0  \n\n[3 rows x 165 columns]",
      "text/html": "<div>\n<style scoped>\n    .dataframe tbody tr th:only-of-type {\n        vertical-align: middle;\n    }\n\n    .dataframe tbody tr th {\n        vertical-align: top;\n    }\n\n    .dataframe thead th {\n        text-align: right;\n    }\n</style>\n<table border=\"1\" class=\"dataframe\">\n  <thead>\n    <tr style=\"text-align: right;\">\n      <th></th>\n      <th>device_category_desktop</th>\n      <th>device_category_mobile</th>\n      <th>device_category_tablet</th>\n      <th>device_os_(not set)</th>\n      <th>device_os_Android</th>\n      <th>device_os_Linux</th>\n      <th>device_os_Windows</th>\n      <th>device_os_iOS</th>\n      <th>device_browser_Mozilla Compatible Agent</th>\n      <th>device_browser_Safari (in-app)</th>\n      <th>...</th>\n      <th>geo_city_customised_Penza</th>\n      <th>geo_city_customised_Prineville</th>\n      <th>geo_city_customised_Pyatigorsk</th>\n      <th>geo_city_customised_Sochi</th>\n      <th>geo_city_customised_Stavropol</th>\n      <th>geo_city_customised_Tomsk</th>\n      <th>geo_city_customised_Tyumen</th>\n      <th>geo_city_customised_Vladimir</th>\n      <th>geo_city_customised_Volgograd</th>\n      <th>geo_city_customised_Voronezh</th>\n    </tr>\n  </thead>\n  <tbody>\n    <tr>\n      <th>12337081</th>\n      <td>1.0</td>\n      <td>0.0</td>\n      <td>0.0</td>\n      <td>0.0</td>\n      <td>0.0</td>\n      <td>0.0</td>\n      <td>0.0</td>\n      <td>0.0</td>\n      <td>0.0</td>\n      <td>0.0</td>\n      <td>...</td>\n      <td>0.0</td>\n      <td>0.0</td>\n      <td>0.0</td>\n      <td>0.0</td>\n      <td>0.0</td>\n      <td>0.0</td>\n      <td>0.0</td>\n      <td>0.0</td>\n      <td>0.0</td>\n      <td>0.0</td>\n    </tr>\n    <tr>\n      <th>3288869</th>\n      <td>1.0</td>\n      <td>0.0</td>\n      <td>0.0</td>\n      <td>0.0</td>\n      <td>0.0</td>\n      <td>0.0</td>\n      <td>0.0</td>\n      <td>0.0</td>\n      <td>0.0</td>\n      <td>0.0</td>\n      <td>...</td>\n      <td>0.0</td>\n      <td>0.0</td>\n      <td>0.0</td>\n      <td>0.0</td>\n      <td>0.0</td>\n      <td>0.0</td>\n      <td>0.0</td>\n      <td>0.0</td>\n      <td>0.0</td>\n      <td>0.0</td>\n    </tr>\n    <tr>\n      <th>10566794</th>\n      <td>0.0</td>\n      <td>1.0</td>\n      <td>0.0</td>\n      <td>0.0</td>\n      <td>1.0</td>\n      <td>0.0</td>\n      <td>0.0</td>\n      <td>0.0</td>\n      <td>0.0</td>\n      <td>0.0</td>\n      <td>...</td>\n      <td>0.0</td>\n      <td>0.0</td>\n      <td>0.0</td>\n      <td>0.0</td>\n      <td>0.0</td>\n      <td>0.0</td>\n      <td>0.0</td>\n      <td>0.0</td>\n      <td>0.0</td>\n      <td>0.0</td>\n    </tr>\n  </tbody>\n</table>\n<p>3 rows × 165 columns</p>\n</div>"
     },
     "execution_count": 4,
     "metadata": {},
     "output_type": "execute_result"
    }
   ],
   "source": [
    "X = df.drop(columns=n.c.IS_TARGET)\n",
    "y = df[n.c.IS_TARGET]\n",
    "\n",
    "\n",
    "X_result = pipeline_manager.main_pl.fit_transform(X, y)\n",
    "\n",
    "X_result = pipeline_manager.cleaning_outliers_pl.fit_transform(X_result, y)\n",
    "# After cleaning we need to remove y values with outliers\n",
    "y_result = y[X_result.index]\n",
    "\n",
    "X_result = pipeline_manager.choose_best_features_pl.fit_transform(X_result, y_result)\n",
    "\n",
    "pipeline_manager.best_model_pl.fit(X_result, y_result)\n",
    "\n",
    "#print(X_result.shape, y_result.shape)\n",
    "X_result.head(3)"
   ],
   "metadata": {
    "collapsed": false,
    "ExecuteTime": {
     "end_time": "2023-10-20T10:03:40.753133500Z",
     "start_time": "2023-10-20T09:56:15.533696900Z"
    }
   },
   "id": "381aee66c76ed349"
  },
  {
   "cell_type": "raw",
   "source": [],
   "metadata": {
    "collapsed": false
   },
   "id": "5f42762ae1520a12"
  },
  {
   "cell_type": "raw",
   "source": [],
   "metadata": {
    "collapsed": false
   },
   "id": "27392873a75c5392"
  },
  {
   "cell_type": "code",
   "execution_count": 5,
   "outputs": [],
   "source": [
    "X = df.drop(columns=n.c.IS_TARGET)\n",
    "y = df[n.c.IS_TARGET]"
   ],
   "metadata": {
    "collapsed": false,
    "ExecuteTime": {
     "end_time": "2023-10-20T10:03:41.374913900Z",
     "start_time": "2023-10-20T10:03:40.749455600Z"
    }
   },
   "id": "c8187dd634c5d2db"
  },
  {
   "cell_type": "code",
   "execution_count": 6,
   "outputs": [
    {
     "data": {
      "text/plain": "52"
     },
     "execution_count": 6,
     "metadata": {},
     "output_type": "execute_result"
    }
   ],
   "source": [
    "border_for_prediction_1 =  0.1\n",
    "\n",
    "y_predict_proba_result = pipeline_manager.result_pl.predict_proba(X.sample(20000))\n",
    "y_predict_proba_result = y_predict_proba_result[:, 1]\n",
    "\n",
    "y_predict_result = [1 if value >= border_for_prediction_1 else 0 for value in y_predict_proba_result]\n",
    "sum(y_predict_result)"
   ],
   "metadata": {
    "collapsed": false,
    "ExecuteTime": {
     "end_time": "2023-10-20T10:03:43.485751800Z",
     "start_time": "2023-10-20T10:03:41.374913900Z"
    }
   },
   "id": "424651d00dc20963"
  },
  {
   "cell_type": "raw",
   "source": [],
   "metadata": {
    "collapsed": false
   },
   "id": "d93d4b7980969447"
  },
  {
   "cell_type": "code",
   "execution_count": 9,
   "outputs": [
    {
     "data": {
      "text/plain": "['data/main_pipeline']"
     },
     "execution_count": 9,
     "metadata": {},
     "output_type": "execute_result"
    }
   ],
   "source": [
    "import joblib\n",
    "\n",
    "df.sample(20).to_json('data/random_customers.json', orient='records')\n",
    "joblib.dump(pipeline_manager.result_pl, 'data/main_pipeline')"
   ],
   "metadata": {
    "collapsed": false,
    "ExecuteTime": {
     "end_time": "2023-10-20T10:05:25.161704Z",
     "start_time": "2023-10-20T10:05:25.033263400Z"
    }
   },
   "id": "8941f05ca4b098ac"
  }
 ],
 "metadata": {
  "kernelspec": {
   "display_name": "Python 3",
   "language": "python",
   "name": "python3"
  },
  "language_info": {
   "codemirror_mode": {
    "name": "ipython",
    "version": 2
   },
   "file_extension": ".py",
   "mimetype": "text/x-python",
   "name": "python",
   "nbconvert_exporter": "python",
   "pygments_lexer": "ipython2",
   "version": "2.7.6"
  }
 },
 "nbformat": 4,
 "nbformat_minor": 5
}
