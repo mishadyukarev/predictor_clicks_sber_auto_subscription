{
 "cells": [
  {
   "cell_type": "code",
   "execution_count": 7,
   "id": "initial_id",
   "metadata": {
    "collapsed": true,
    "ExecuteTime": {
     "end_time": "2023-10-15T08:35:47.327703100Z",
     "start_time": "2023-10-15T08:35:47.309511500Z"
    }
   },
   "outputs": [],
   "source": [
    "import pandas as pd\n",
    "import functions\n",
    "import names as n\n",
    "import seaborn as sns\n",
    "import matplotlib.pyplot as plt\n",
    "import numpy as np\n",
    "\n",
    "import statsmodels.api as sm\n",
    "from statsmodels.formula.api import ols\n",
    "\n",
    "import scipy.stats as stats"
   ]
  },
  {
   "cell_type": "markdown",
   "source": [],
   "metadata": {
    "collapsed": false
   },
   "id": "530d6ef632048995"
  },
  {
   "cell_type": "code",
   "execution_count": 8,
   "outputs": [
    {
     "name": "stdout",
     "output_type": "stream",
     "text": [
      "(1732266, 28)\n"
     ]
    },
    {
     "data": {
      "text/plain": "                                  session_id     client_id  visit_date  \\\n0  7284725054902084534.1624538941.1624538941  1.696107e+09  2021-06-24   \n1  2502982653972912560.1628266799.1628266799  5.827711e+08  2021-08-06   \n2    63501960694916780.1640162989.1640162989  1.478520e+07  2021-12-22   \n\n  visit_time  visit_number            utm_source utm_medium  \\\n0   15:00:00            75  jaSOmLICuBzCFqHfBdRg      email   \n1   19:00:00             6  kjsLglQLzykiRbcDiGcD    organic   \n2   11:49:49             1  ZpYIoDJMcFzVoPFsHGJL       push   \n\n           utm_campaign         utm_adcontent           utm_keyword  ...  \\\n0  LliRUcMuIXWdLyWHGyiO  sDWYAbLNiGZVxGBDdTxc                   NaN  ...   \n1  LTuZkdKfxRGVceoWkVyg  JNHcPlZPxEMWDnRiyoBf                   NaN  ...   \n2  sbJRYgVfvcnqKJNDDYIr  JNHcPlZPxEMWDnRiyoBf  puhZPIYqKXeFPaUviSjo  ...   \n\n     hit_date hit_time hit_number hit_type           hit_referer  \\\n0  2021-06-24      NaN         22    event  HbolMJUevblAbkHClEQa   \n1  2021-08-06      NaN         35    event  HbolMJUevblAbkHClEQa   \n2  2021-12-22  90012.0         20    event                   NaN   \n\n                                       hit_page_path    event_category  \\\n0  sberauto.com/cars/4791c8b2?rental_page=rental_car        sub_submit   \n1  sberauto.com/cars/f28947a1?rental_page=rental_car  sub_button_click   \n2  sberauto.com/cars/all/skoda/octavia/4791c8b2?u...  sub_button_click   \n\n            event_label event_value  is_target  \n0  nsPPIRqjxBefONGPpnsF         NaN          1  \n1  EsLbNNEnCkXWoaesnKlS         NaN          1  \n2  EsLbNNEnCkXWoaesnKlS         NaN          1  \n\n[3 rows x 28 columns]",
      "text/html": "<div>\n<style scoped>\n    .dataframe tbody tr th:only-of-type {\n        vertical-align: middle;\n    }\n\n    .dataframe tbody tr th {\n        vertical-align: top;\n    }\n\n    .dataframe thead th {\n        text-align: right;\n    }\n</style>\n<table border=\"1\" class=\"dataframe\">\n  <thead>\n    <tr style=\"text-align: right;\">\n      <th></th>\n      <th>session_id</th>\n      <th>client_id</th>\n      <th>visit_date</th>\n      <th>visit_time</th>\n      <th>visit_number</th>\n      <th>utm_source</th>\n      <th>utm_medium</th>\n      <th>utm_campaign</th>\n      <th>utm_adcontent</th>\n      <th>utm_keyword</th>\n      <th>...</th>\n      <th>hit_date</th>\n      <th>hit_time</th>\n      <th>hit_number</th>\n      <th>hit_type</th>\n      <th>hit_referer</th>\n      <th>hit_page_path</th>\n      <th>event_category</th>\n      <th>event_label</th>\n      <th>event_value</th>\n      <th>is_target</th>\n    </tr>\n  </thead>\n  <tbody>\n    <tr>\n      <th>0</th>\n      <td>7284725054902084534.1624538941.1624538941</td>\n      <td>1.696107e+09</td>\n      <td>2021-06-24</td>\n      <td>15:00:00</td>\n      <td>75</td>\n      <td>jaSOmLICuBzCFqHfBdRg</td>\n      <td>email</td>\n      <td>LliRUcMuIXWdLyWHGyiO</td>\n      <td>sDWYAbLNiGZVxGBDdTxc</td>\n      <td>NaN</td>\n      <td>...</td>\n      <td>2021-06-24</td>\n      <td>NaN</td>\n      <td>22</td>\n      <td>event</td>\n      <td>HbolMJUevblAbkHClEQa</td>\n      <td>sberauto.com/cars/4791c8b2?rental_page=rental_car</td>\n      <td>sub_submit</td>\n      <td>nsPPIRqjxBefONGPpnsF</td>\n      <td>NaN</td>\n      <td>1</td>\n    </tr>\n    <tr>\n      <th>1</th>\n      <td>2502982653972912560.1628266799.1628266799</td>\n      <td>5.827711e+08</td>\n      <td>2021-08-06</td>\n      <td>19:00:00</td>\n      <td>6</td>\n      <td>kjsLglQLzykiRbcDiGcD</td>\n      <td>organic</td>\n      <td>LTuZkdKfxRGVceoWkVyg</td>\n      <td>JNHcPlZPxEMWDnRiyoBf</td>\n      <td>NaN</td>\n      <td>...</td>\n      <td>2021-08-06</td>\n      <td>NaN</td>\n      <td>35</td>\n      <td>event</td>\n      <td>HbolMJUevblAbkHClEQa</td>\n      <td>sberauto.com/cars/f28947a1?rental_page=rental_car</td>\n      <td>sub_button_click</td>\n      <td>EsLbNNEnCkXWoaesnKlS</td>\n      <td>NaN</td>\n      <td>1</td>\n    </tr>\n    <tr>\n      <th>2</th>\n      <td>63501960694916780.1640162989.1640162989</td>\n      <td>1.478520e+07</td>\n      <td>2021-12-22</td>\n      <td>11:49:49</td>\n      <td>1</td>\n      <td>ZpYIoDJMcFzVoPFsHGJL</td>\n      <td>push</td>\n      <td>sbJRYgVfvcnqKJNDDYIr</td>\n      <td>JNHcPlZPxEMWDnRiyoBf</td>\n      <td>puhZPIYqKXeFPaUviSjo</td>\n      <td>...</td>\n      <td>2021-12-22</td>\n      <td>90012.0</td>\n      <td>20</td>\n      <td>event</td>\n      <td>NaN</td>\n      <td>sberauto.com/cars/all/skoda/octavia/4791c8b2?u...</td>\n      <td>sub_button_click</td>\n      <td>EsLbNNEnCkXWoaesnKlS</td>\n      <td>NaN</td>\n      <td>1</td>\n    </tr>\n  </tbody>\n</table>\n<p>3 rows × 28 columns</p>\n</div>"
     },
     "execution_count": 8,
     "metadata": {},
     "output_type": "execute_result"
    }
   ],
   "source": [
    "'''# This method just loads 2 dataframes and merge them together and save it into data folder\n",
    "df = functions.load_ga_hits_and_ga_sessions_and_merge()\n",
    "\n",
    "# We need target columns for prediction\n",
    "functions.create_target_column_into_df(df)\n",
    "\n",
    "df = df.sort_values(by=[\"is_target\"], ascending=False)\n",
    "\n",
    "df = df.drop_duplicates(subset=[\"session_id\"], keep=\"first\")\n",
    "\n",
    "df.to_csv('data/merged_ga_hits_and_ga_sessions.csv', index=False)'''\n",
    "\n",
    "\n",
    "\n",
    "\n",
    "# Here we just read it\n",
    "df = pd.read_csv('data/merged_ga_hits_and_ga_sessions.csv')\n",
    "print(df.shape)\n",
    "df.head(3)\n",
    "\n",
    "# I understand we need to predict: \n",
    "# ['sub_car_claim_click', 'sub_car_claim_submit_click',\n",
    "# 'sub_open_dialog_click', 'sub_custom_question_submit_click',\n",
    "# 'sub_call_number_click', 'sub_callback_submit_click', 'sub_submit_success',\n",
    "# 'sub_car_request_submit_click'] from event_action\n",
    "\n",
    "# It means customer visit the site, so we need to understand he will click at target or not. \n",
    "# And after that we can do something with these type of people \n",
    "# For example who with big probability almost 100% we are not going to do something. \n",
    "# But if customer with 40%-60% we can do something to provocate their interest more.\n",
    "# And if customer with 0%-30% we are not going do to something"
   ],
   "metadata": {
    "collapsed": false,
    "ExecuteTime": {
     "end_time": "2023-10-15T08:35:56.495665500Z",
     "start_time": "2023-10-15T08:35:47.852869600Z"
    }
   },
   "id": "c4f585009d10a17b"
  },
  {
   "cell_type": "code",
   "execution_count": 10,
   "outputs": [
    {
     "name": "stdout",
     "output_type": "stream",
     "text": [
      "<class 'pandas.core.frame.DataFrame'>\n",
      "RangeIndex: 1732266 entries, 0 to 1732265\n",
      "Data columns (total 28 columns):\n",
      " #   Column                    Dtype  \n",
      "---  ------                    -----  \n",
      " 0   session_id                object \n",
      " 1   client_id                 float64\n",
      " 2   visit_date                object \n",
      " 3   visit_time                object \n",
      " 4   visit_number              int64  \n",
      " 5   utm_source                object \n",
      " 6   utm_medium                object \n",
      " 7   utm_campaign              object \n",
      " 8   utm_adcontent             object \n",
      " 9   utm_keyword               object \n",
      " 10  device_category           object \n",
      " 11  device_os                 object \n",
      " 12  device_brand              object \n",
      " 13  device_model              object \n",
      " 14  device_screen_resolution  object \n",
      " 15  device_browser            object \n",
      " 16  geo_country               object \n",
      " 17  geo_city                  object \n",
      " 18  hit_date                  object \n",
      " 19  hit_time                  float64\n",
      " 20  hit_number                int64  \n",
      " 21  hit_type                  object \n",
      " 22  hit_referer               object \n",
      " 23  hit_page_path             object \n",
      " 24  event_category            object \n",
      " 25  event_label               object \n",
      " 26  event_value               float64\n",
      " 27  is_target                 int64  \n",
      "dtypes: float64(3), int64(3), object(22)\n",
      "memory usage: 370.1+ MB\n"
     ]
    }
   ],
   "source": [
    "df.info()"
   ],
   "metadata": {
    "collapsed": false,
    "ExecuteTime": {
     "end_time": "2023-10-15T08:36:09.903523500Z",
     "start_time": "2023-10-15T08:36:09.849010900Z"
    }
   },
   "id": "b3e6d779115d1cac"
  },
  {
   "cell_type": "code",
   "execution_count": 3,
   "outputs": [
    {
     "data": {
      "text/plain": "event_value                 100.000000\ndevice_model                 99.130503\nutm_keyword                  58.925823\ndevice_os                    58.533966\nhit_time                     58.499388\nhit_referer                  38.840167\nevent_label                  29.462277\ndevice_brand                 20.042880\nutm_adcontent                17.557177\nutm_campaign                 11.273500\nutm_source                    0.004387\nhit_date                      0.000000\nhit_page_path                 0.000000\nevent_category                0.000000\nhit_type                      0.000000\nhit_number                    0.000000\nsession_id                    0.000000\ndevice_screen_resolution      0.000000\ngeo_city                      0.000000\ngeo_country                   0.000000\ndevice_browser                0.000000\nclient_id                     0.000000\ndevice_category               0.000000\nutm_medium                    0.000000\nvisit_number                  0.000000\nvisit_time                    0.000000\nvisit_date                    0.000000\nis_target                     0.000000\ndtype: float64"
     },
     "execution_count": 3,
     "metadata": {},
     "output_type": "execute_result"
    }
   ],
   "source": [
    "# Let's check about nulls columns\n",
    "how_many_nulls = df.isnull().sum()\n",
    "(how_many_nulls.sort_values(ascending=False) / len(df))*100"
   ],
   "metadata": {
    "collapsed": false,
    "ExecuteTime": {
     "end_time": "2023-10-15T08:16:47.627278700Z",
     "start_time": "2023-10-15T08:16:44.595480300Z"
    }
   },
   "id": "23b3a900293ac1f6"
  },
  {
   "cell_type": "code",
   "execution_count": 4,
   "outputs": [
    {
     "data": {
      "text/plain": "0    1681952\n1      50314\nName: is_target, dtype: int64"
     },
     "execution_count": 4,
     "metadata": {},
     "output_type": "execute_result"
    }
   ],
   "source": [
    "df.is_target.value_counts()"
   ],
   "metadata": {
    "collapsed": false,
    "ExecuteTime": {
     "end_time": "2023-10-15T08:16:47.697017300Z",
     "start_time": "2023-10-15T08:16:47.629812700Z"
    }
   },
   "id": "48346f6291890751"
  },
  {
   "cell_type": "code",
   "execution_count": 5,
   "outputs": [
    {
     "data": {
      "text/plain": "                                        session_id  visit_number  \\\n1370662  4004463479324212482.1629814018.1629814018             1   \n\n                   utm_source utm_medium          utm_campaign  \\\n1370662  MvfHsxITijuriZxsqZqt        cpm  FTjNLDyTrXaWYgZymFkV   \n\n                utm_adcontent utm_keyword device_category device_os  \\\n1370662  dUuXlWzvmhDSyclWRhNP         NaN          mobile       NaN   \n\n        device_brand  ... visit_time_minutes visit_time_seconds  \\\n1370662       Xiaomi  ...                  0                  0   \n\n        visit_time_full_minutes visit_time_full_hours  visit_date_year  \\\n1370662                     0.0                  17.0             2021   \n\n         visit_date_month visit_date_day visit_date_weekday  \\\n1370662                 8             24                  1   \n\n        device_screen_resolution_mult is_from_russia  \n1370662                        343089              1  \n\n[1 rows x 34 columns]",
      "text/html": "<div>\n<style scoped>\n    .dataframe tbody tr th:only-of-type {\n        vertical-align: middle;\n    }\n\n    .dataframe tbody tr th {\n        vertical-align: top;\n    }\n\n    .dataframe thead th {\n        text-align: right;\n    }\n</style>\n<table border=\"1\" class=\"dataframe\">\n  <thead>\n    <tr style=\"text-align: right;\">\n      <th></th>\n      <th>session_id</th>\n      <th>visit_number</th>\n      <th>utm_source</th>\n      <th>utm_medium</th>\n      <th>utm_campaign</th>\n      <th>utm_adcontent</th>\n      <th>utm_keyword</th>\n      <th>device_category</th>\n      <th>device_os</th>\n      <th>device_brand</th>\n      <th>...</th>\n      <th>visit_time_minutes</th>\n      <th>visit_time_seconds</th>\n      <th>visit_time_full_minutes</th>\n      <th>visit_time_full_hours</th>\n      <th>visit_date_year</th>\n      <th>visit_date_month</th>\n      <th>visit_date_day</th>\n      <th>visit_date_weekday</th>\n      <th>device_screen_resolution_mult</th>\n      <th>is_from_russia</th>\n    </tr>\n  </thead>\n  <tbody>\n    <tr>\n      <th>1370662</th>\n      <td>4004463479324212482.1629814018.1629814018</td>\n      <td>1</td>\n      <td>MvfHsxITijuriZxsqZqt</td>\n      <td>cpm</td>\n      <td>FTjNLDyTrXaWYgZymFkV</td>\n      <td>dUuXlWzvmhDSyclWRhNP</td>\n      <td>NaN</td>\n      <td>mobile</td>\n      <td>NaN</td>\n      <td>Xiaomi</td>\n      <td>...</td>\n      <td>0</td>\n      <td>0</td>\n      <td>0.0</td>\n      <td>17.0</td>\n      <td>2021</td>\n      <td>8</td>\n      <td>24</td>\n      <td>1</td>\n      <td>343089</td>\n      <td>1</td>\n    </tr>\n  </tbody>\n</table>\n<p>1 rows × 34 columns</p>\n</div>"
     },
     "execution_count": 5,
     "metadata": {},
     "output_type": "execute_result"
    }
   ],
   "source": [
    "# We don't need columns with missing values more than 80%\n",
    "df = functions.get_dropped_df_with_80_percent_or_more_miss_values_in_columns(df)\n",
    "\n",
    "# We need hours, minutes, seconds from visit time\n",
    "functions.add_hms_columns_from_visit_time_into_df(df)\n",
    "df = df.drop(columns=[n.c.VISIT_TIME, n.c.VISIT_TIME_DT])\n",
    "\n",
    "# We need year, month, day from visit date\n",
    "functions.add_ymd_columns_from_visit_date_into_df(df)\n",
    "df = df.drop(columns=[n.c.VISIT_DATE, n.c.VISIT_DATE_DT])\n",
    "\n",
    "# We will try to create column with width x height resolution column\n",
    "functions.create_mult_device_screen_resolution_column_into_df(df)\n",
    "df = df.drop(columns=[n.c.DEVICE_SCREEN_RESOLUTION])\n",
    "\n",
    "functions.create_is_from_russia_column_from_geo_country_columns(df)\n",
    "\n",
    "# We don't need client_id for prediction\n",
    "df = df.drop(columns=[n.c.CLIENT_ID])\n",
    "\n",
    "df.sample(1)"
   ],
   "metadata": {
    "collapsed": false,
    "ExecuteTime": {
     "end_time": "2023-10-15T08:21:25.208769100Z",
     "start_time": "2023-10-15T08:21:14.697042600Z"
    }
   },
   "id": "d40f461c677c5891"
  },
  {
   "cell_type": "code",
   "execution_count": 6,
   "outputs": [
    {
     "data": {
      "text/plain": "<Figure size 640x480 with 1 Axes>",
      "image/png": "[encoded data removed]"
     },
     "metadata": {},
     "output_type": "display_data"
    }
   ],
   "source": [
    "# We have a lot more 'False' than 'True'\n",
    "sns.histplot(data=df, x=n.c.IS_TARGET);"
   ],
   "metadata": {
    "collapsed": false,
    "ExecuteTime": {
     "end_time": "2023-10-15T08:21:27.731403300Z",
     "start_time": "2023-10-15T08:21:27.362695800Z"
    }
   },
   "id": "deaf465bbcd09f72"
  },
  {
   "cell_type": "raw",
   "source": [],
   "metadata": {
    "collapsed": false
   },
   "id": "15d19ceb326f74f6"
  },
  {
   "cell_type": "raw",
   "source": [
    "Feature selection:"
   ],
   "metadata": {
    "collapsed": false
   },
   "id": "9ef7db0e3402ad88"
  },
  {
   "cell_type": "code",
   "execution_count": 21,
   "outputs": [
    {
     "data": {
      "text/plain": "session_id                       1732266\nvisit_number                         533\nutm_source                           280\nutm_medium                            55\nutm_campaign                         406\nutm_adcontent                        280\nutm_keyword                         1192\ndevice_category                        3\ndevice_os                             13\ndevice_brand                         200\ndevice_browser                        55\ngeo_country                          159\ngeo_city                            2389\nhit_date                             226\nhit_time                          195547\nhit_number                           374\nhit_type                               1\nhit_referer                        23737\nhit_page_path                     199659\nevent_category                        46\nevent_label                         5170\nevent_value                            0\nis_target                              2\nvisit_time_hours                      24\nvisit_time_minutes                    60\nvisit_time_seconds                    60\nvisit_time_full_minutes             3600\nvisit_time_full_hours               2401\nvisit_date_year                        1\nvisit_date_month                       8\nvisit_date_day                        31\nvisit_date_weekday                     7\ndevice_screen_resolution_mult       4506\nis_from_russia                         2\ndtype: int64"
     },
     "execution_count": 21,
     "metadata": {},
     "output_type": "execute_result"
    }
   ],
   "source": [
    "df.nunique()"
   ],
   "metadata": {
    "collapsed": false,
    "ExecuteTime": {
     "end_time": "2023-10-08T11:52:00.017790100Z",
     "start_time": "2023-10-08T11:51:55.927527600Z"
    }
   },
   "id": "a01298caed1610c5"
  },
  {
   "cell_type": "markdown",
   "source": [],
   "metadata": {
    "collapsed": false
   },
   "id": "6f8df1717c9eed7"
  },
  {
   "cell_type": "code",
   "execution_count": 22,
   "outputs": [
    {
     "data": {
      "text/plain": "LTuZkdKfxRGVceoWkVyg    422992\nLEoPHuyFvzoNfnzGgfcd    321286\nelse                    266922\nFTjNLDyTrXaWYgZymFkV    234950\ngecBYcKZCPMcVYdSSzKP    133247\nXHNUiSKKGTEpSAlaVMFQ     23750\nsbJRYgVfvcnqKJNDDYIr     19942\nokTXSMadDkjvntEHzIjp     18405\nLwJZxKuWmvOhPsaCeRjG     16846\nSgIUDYUKnyWHVowUOqid     15784\nRoDitORHdzGfGhNCyEMy     15063\nbxOTvPtyGSdUrbwoXCPO     14987\nTmThBvoCcwkCZZUWACYq     14878\nzxoiLxhuSIFrCeTLQVWZ     12234\nbJJuEXRheRIxXEaYIXqM     11903\nYCKgTzTDywjcWyQudGch     11735\nnSReTmyFtbSjlPrTKoaX     11272\nQEejXfOCtOMFLZqIPApp     10067\nvRLTQQKAsFQMxbcHGPhu      9319\neimRuUrNhZLAYcwRrNXu      7724\njvsVVQVKRfBIqBDBuCkq      7721\nVBmazutCflYumtDHrQYe      7280\nMXqmDyetMTICSSitTjWV      6944\nkVOrIKZFrEYGvixPclal      6894\nQdLfySaGXolfTBSNVfHn      6845\nPXQWdUxeUoXfoKzTBGpY      6829\nKgicpPxiEQfzPlPwQZJq      6758\nJwYIveaHVpeeRZloQCfF      6374\njqlUOdZBNZYfInQVcZlS      6248\nWiILFRDQbcHDHNvHzGpX      5733\nIKQsApKuPmZqqmhieEgf      5388\nUvuMsOSDBWQGOIbDbXfV      5072\nGWZGdHKPgmZPNPwkJshU      5057\nvXsFkagGabkcWKlgLzSg      4987\nwpmatvDuiMutnvmNVPJo      3992\nhkvDVxqLOzGjGaoNiNzN      3899\nHEimDfYZIzuQXDZAAcEW      3372\nDnEUulZAecfGPvdtZBYS      3310\nmSVMBvlHFgftJaQAZEdp      3110\ngVwpGdJDpteNmFIatPTG      3031\nDsqwamlMwRgMTyspCjFR      2700\nYDIkQmcjRkpdxGbLLtNN      2631\nWlbWUObZWvsimzdFdLYw      2580\nIZEXUFLARCUMynmHNBGo      2541\nBVKxkCOHKUOvkpbrLMgZ      2490\npQhDyEDSvgnXNvMXPAhy      2410\nESphyUeLTPINiYALHWrO      2284\nAqudXfUnmXWSDWVGYaXr      2272\nzPJpddwzkFqLMSYgtDqy      2184\nbgTYkDHjOsJzMUtoGhiQ      2160\nUjApcvnaHtkydRkrLYuv      2029\nLUlvACDKkkOkiSuiwaBs      1971\nascPqxFuFewWWZSVMpkh      1864\nName: utm_campaign_customised, dtype: int64"
     },
     "execution_count": 22,
     "metadata": {},
     "output_type": "execute_result"
    }
   ],
   "source": [
    "# We need to reduce categorical values in columns. Ratio means which category less than ration we change category into 'else'\n",
    "functions.create_new_columns_with_else_values_in_it(df, n.c.UTM_SOURCE, n.c.UTM_SOURCE_CUSTOMISED, ratio=0.001)\n",
    "functions.create_new_columns_with_else_values_in_it(df, n.c.UTM_MEDIUM, n.c.UTM_MEDIUM_CUSTOMISED, ratio=0.001)\n",
    "functions.create_new_columns_with_else_values_in_it(df, n.c.UTM_CAMPAIGN, n.c.UTM_CAMPAIGN_CUSTOMISED, ratio=0.001)\n",
    "functions.create_new_columns_with_else_values_in_it(df, n.c.UTM_ADCONTENT, n.c.UTM_ADCONTENT_CUSTOMISED, ratio=0.001)\n",
    "functions.create_new_columns_with_else_values_in_it(df, n.c.UTM_KEYWORD, n.c.UTM_KEYWORD_CUSTOMISED, ratio=0.001)\n",
    "functions.create_new_columns_with_else_values_in_it(df, n.c.DEVICE_BRAND, n.c.DEVICE_BRAND_CUSTOMISED, ratio=0.001)\n",
    "functions.create_new_columns_with_else_values_in_it(df, n.c.GEO_CITY, n.c.GEO_CITY_CUSTOMISED, ratio=0.001)\n",
    "\n",
    "# Just to check how it works\n",
    "df[n.c.UTM_CAMPAIGN_CUSTOMISED].value_counts()"
   ],
   "metadata": {
    "collapsed": false,
    "ExecuteTime": {
     "end_time": "2023-10-08T11:52:07.530704100Z",
     "start_time": "2023-10-08T11:52:00.143176900Z"
    }
   },
   "id": "d410d7ba98f773b9"
  },
  {
   "cell_type": "code",
   "execution_count": 23,
   "outputs": [
    {
     "data": {
      "text/plain": "session_id                       1732266\nvisit_number                         533\nutm_source                           280\nutm_medium                            55\nutm_campaign                         406\nutm_adcontent                        280\nutm_keyword                         1192\ndevice_category                        3\ndevice_os                             13\ndevice_brand                         200\ndevice_browser                        55\ngeo_country                          159\ngeo_city                            2389\nhit_date                             226\nhit_time                          195547\nhit_number                           374\nhit_type                               1\nhit_referer                        23737\nhit_page_path                     199659\nevent_category                        46\nevent_label                         5170\nevent_value                            0\nis_target                              2\nvisit_time_hours                      24\nvisit_time_minutes                    60\nvisit_time_seconds                    60\nvisit_time_full_minutes             3600\nvisit_time_full_hours               2401\nvisit_date_year                        1\nvisit_date_month                       8\nvisit_date_day                        31\nvisit_date_weekday                     7\ndevice_screen_resolution_mult       4506\nis_from_russia                         2\nutm_source_customised                 29\nutm_medium_customised                 17\nutm_campaign_customised               53\nutm_adcontent_customised              21\nutm_keyword_customised                37\ndevice_brand_customised               21\ngeo_city_customised                   76\ndtype: int64"
     },
     "execution_count": 23,
     "metadata": {},
     "output_type": "execute_result"
    }
   ],
   "source": [
    "df.nunique()"
   ],
   "metadata": {
    "collapsed": false,
    "ExecuteTime": {
     "end_time": "2023-10-08T11:52:12.274149100Z",
     "start_time": "2023-10-08T11:52:07.696532300Z"
    }
   },
   "id": "a25c650ce783eae8"
  },
  {
   "cell_type": "code",
   "execution_count": 24,
   "outputs": [
    {
     "data": {
      "text/plain": "                                  session_id  visit_number  \\\n0  7284725054902084534.1624538941.1624538941            75   \n\n             utm_source utm_medium          utm_campaign  \\\n0  jaSOmLICuBzCFqHfBdRg      email  LliRUcMuIXWdLyWHGyiO   \n\n          utm_adcontent utm_keyword device_category device_os device_brand  \\\n0  sDWYAbLNiGZVxGBDdTxc         NaN         desktop       NaN          NaN   \n\n   ... visit_date_weekday device_screen_resolution_mult is_from_russia  \\\n0  ...                  3                        921600              1   \n\n  utm_source_customised  utm_medium_customised  utm_campaign_customised  \\\n0  jaSOmLICuBzCFqHfBdRg                  email                     else   \n\n  utm_adcontent_customised utm_keyword_customised device_brand_customised  \\\n0                     else                   else                    else   \n\n  geo_city_customised  \n0              Moscow  \n\n[1 rows x 41 columns]",
      "text/html": "<div>\n<style scoped>\n    .dataframe tbody tr th:only-of-type {\n        vertical-align: middle;\n    }\n\n    .dataframe tbody tr th {\n        vertical-align: top;\n    }\n\n    .dataframe thead th {\n        text-align: right;\n    }\n</style>\n<table border=\"1\" class=\"dataframe\">\n  <thead>\n    <tr style=\"text-align: right;\">\n      <th></th>\n      <th>session_id</th>\n      <th>visit_number</th>\n      <th>utm_source</th>\n      <th>utm_medium</th>\n      <th>utm_campaign</th>\n      <th>utm_adcontent</th>\n      <th>utm_keyword</th>\n      <th>device_category</th>\n      <th>device_os</th>\n      <th>device_brand</th>\n      <th>...</th>\n      <th>visit_date_weekday</th>\n      <th>device_screen_resolution_mult</th>\n      <th>is_from_russia</th>\n      <th>utm_source_customised</th>\n      <th>utm_medium_customised</th>\n      <th>utm_campaign_customised</th>\n      <th>utm_adcontent_customised</th>\n      <th>utm_keyword_customised</th>\n      <th>device_brand_customised</th>\n      <th>geo_city_customised</th>\n    </tr>\n  </thead>\n  <tbody>\n    <tr>\n      <th>0</th>\n      <td>7284725054902084534.1624538941.1624538941</td>\n      <td>75</td>\n      <td>jaSOmLICuBzCFqHfBdRg</td>\n      <td>email</td>\n      <td>LliRUcMuIXWdLyWHGyiO</td>\n      <td>sDWYAbLNiGZVxGBDdTxc</td>\n      <td>NaN</td>\n      <td>desktop</td>\n      <td>NaN</td>\n      <td>NaN</td>\n      <td>...</td>\n      <td>3</td>\n      <td>921600</td>\n      <td>1</td>\n      <td>jaSOmLICuBzCFqHfBdRg</td>\n      <td>email</td>\n      <td>else</td>\n      <td>else</td>\n      <td>else</td>\n      <td>else</td>\n      <td>Moscow</td>\n    </tr>\n  </tbody>\n</table>\n<p>1 rows × 41 columns</p>\n</div>"
     },
     "execution_count": 24,
     "metadata": {},
     "output_type": "execute_result"
    }
   ],
   "source": [
    "df.head(1)"
   ],
   "metadata": {
    "collapsed": false,
    "ExecuteTime": {
     "end_time": "2023-10-08T11:52:12.334742Z",
     "start_time": "2023-10-08T11:52:12.277159700Z"
    }
   },
   "id": "a8a9680dcebcb3e7"
  },
  {
   "cell_type": "code",
   "execution_count": null,
   "outputs": [],
   "source": [
    "fig, (ax_box, ax_hist) = plt.subplots(2, sharex=True,\n",
    "                                      gridspec_kw={\"height_ratios\": (.15, .85)})\n",
    "\n",
    "_ = np.log(df.visit_number)\n",
    "\n",
    "ax_box.boxplot(_, vert=False)\n",
    "ax_hist.hist(_)\n",
    "\n",
    "ax_box.set(xlabel='')\n",
    "plt.show()\n",
    "\n",
    "# I analysed all features about outliers and I didn't notice anything, so we are going to try to clean outliers with Isolation Forest algorithm"
   ],
   "metadata": {
    "collapsed": false
   },
   "id": "f43ac0609570ecc7"
  },
  {
   "cell_type": "raw",
   "source": [],
   "metadata": {
    "collapsed": false
   },
   "id": "687f12c39e813f7"
  },
  {
   "cell_type": "raw",
   "source": [
    "Statistical tests:"
   ],
   "metadata": {
    "collapsed": false
   },
   "id": "936f809b0ca5eda1"
  },
  {
   "cell_type": "code",
   "execution_count": 25,
   "outputs": [
    {
     "data": {
      "text/plain": "                     columns          chi2        p-value  how_good_feature\n0                 utm_source  11518.162190   0.000000e+00               1.0\n1      utm_source_customised  10668.584159   0.000000e+00               1.0\n2                 utm_medium   9572.879991   0.000000e+00               1.0\n3      utm_medium_customised   9121.619243   0.000000e+00               1.0\n4               utm_campaign  13053.191101   0.000000e+00               1.0\n5    utm_campaign_customised  10010.791778   0.000000e+00               1.0\n6              utm_adcontent   6739.215842   0.000000e+00               1.0\n7   utm_adcontent_customised   5940.011947   0.000000e+00               1.0\n8                utm_keyword   4320.431682   0.000000e+00               1.0\n9     utm_keyword_customised   2737.088865   0.000000e+00               1.0\n10                  geo_city   3883.193964   5.078762e-75               1.0\n11       geo_city_customised   1388.398698  7.897291e-241               1.0\n12               geo_country    453.183228   2.687008e-30               1.0\n13            is_from_russia     61.262843   4.994173e-15               1.0\n14           device_category    268.584166   4.760903e-59               1.0\n15                 device_os    159.644798   6.204850e-28               1.0\n16              device_brand    674.022587   6.145947e-53               1.0\n17            device_browser    511.830772   8.101476e-76               1.0\n18          visit_date_month   6441.636593   0.000000e+00               1.0\n19        visit_date_weekday    406.891482   9.220911e-85               1.0",
      "text/html": "<div>\n<style scoped>\n    .dataframe tbody tr th:only-of-type {\n        vertical-align: middle;\n    }\n\n    .dataframe tbody tr th {\n        vertical-align: top;\n    }\n\n    .dataframe thead th {\n        text-align: right;\n    }\n</style>\n<table border=\"1\" class=\"dataframe\">\n  <thead>\n    <tr style=\"text-align: right;\">\n      <th></th>\n      <th>columns</th>\n      <th>chi2</th>\n      <th>p-value</th>\n      <th>how_good_feature</th>\n    </tr>\n  </thead>\n  <tbody>\n    <tr>\n      <th>0</th>\n      <td>utm_source</td>\n      <td>11518.162190</td>\n      <td>0.000000e+00</td>\n      <td>1.0</td>\n    </tr>\n    <tr>\n      <th>1</th>\n      <td>utm_source_customised</td>\n      <td>10668.584159</td>\n      <td>0.000000e+00</td>\n      <td>1.0</td>\n    </tr>\n    <tr>\n      <th>2</th>\n      <td>utm_medium</td>\n      <td>9572.879991</td>\n      <td>0.000000e+00</td>\n      <td>1.0</td>\n    </tr>\n    <tr>\n      <th>3</th>\n      <td>utm_medium_customised</td>\n      <td>9121.619243</td>\n      <td>0.000000e+00</td>\n      <td>1.0</td>\n    </tr>\n    <tr>\n      <th>4</th>\n      <td>utm_campaign</td>\n      <td>13053.191101</td>\n      <td>0.000000e+00</td>\n      <td>1.0</td>\n    </tr>\n    <tr>\n      <th>5</th>\n      <td>utm_campaign_customised</td>\n      <td>10010.791778</td>\n      <td>0.000000e+00</td>\n      <td>1.0</td>\n    </tr>\n    <tr>\n      <th>6</th>\n      <td>utm_adcontent</td>\n      <td>6739.215842</td>\n      <td>0.000000e+00</td>\n      <td>1.0</td>\n    </tr>\n    <tr>\n      <th>7</th>\n      <td>utm_adcontent_customised</td>\n      <td>5940.011947</td>\n      <td>0.000000e+00</td>\n      <td>1.0</td>\n    </tr>\n    <tr>\n      <th>8</th>\n      <td>utm_keyword</td>\n      <td>4320.431682</td>\n      <td>0.000000e+00</td>\n      <td>1.0</td>\n    </tr>\n    <tr>\n      <th>9</th>\n      <td>utm_keyword_customised</td>\n      <td>2737.088865</td>\n      <td>0.000000e+00</td>\n      <td>1.0</td>\n    </tr>\n    <tr>\n      <th>10</th>\n      <td>geo_city</td>\n      <td>3883.193964</td>\n      <td>5.078762e-75</td>\n      <td>1.0</td>\n    </tr>\n    <tr>\n      <th>11</th>\n      <td>geo_city_customised</td>\n      <td>1388.398698</td>\n      <td>7.897291e-241</td>\n      <td>1.0</td>\n    </tr>\n    <tr>\n      <th>12</th>\n      <td>geo_country</td>\n      <td>453.183228</td>\n      <td>2.687008e-30</td>\n      <td>1.0</td>\n    </tr>\n    <tr>\n      <th>13</th>\n      <td>is_from_russia</td>\n      <td>61.262843</td>\n      <td>4.994173e-15</td>\n      <td>1.0</td>\n    </tr>\n    <tr>\n      <th>14</th>\n      <td>device_category</td>\n      <td>268.584166</td>\n      <td>4.760903e-59</td>\n      <td>1.0</td>\n    </tr>\n    <tr>\n      <th>15</th>\n      <td>device_os</td>\n      <td>159.644798</td>\n      <td>6.204850e-28</td>\n      <td>1.0</td>\n    </tr>\n    <tr>\n      <th>16</th>\n      <td>device_brand</td>\n      <td>674.022587</td>\n      <td>6.145947e-53</td>\n      <td>1.0</td>\n    </tr>\n    <tr>\n      <th>17</th>\n      <td>device_browser</td>\n      <td>511.830772</td>\n      <td>8.101476e-76</td>\n      <td>1.0</td>\n    </tr>\n    <tr>\n      <th>18</th>\n      <td>visit_date_month</td>\n      <td>6441.636593</td>\n      <td>0.000000e+00</td>\n      <td>1.0</td>\n    </tr>\n    <tr>\n      <th>19</th>\n      <td>visit_date_weekday</td>\n      <td>406.891482</td>\n      <td>9.220911e-85</td>\n      <td>1.0</td>\n    </tr>\n  </tbody>\n</table>\n</div>"
     },
     "execution_count": 25,
     "metadata": {},
     "output_type": "execute_result"
    }
   ],
   "source": [
    "cols_l = [n.c.UTM_SOURCE, n.c.UTM_SOURCE_CUSTOMISED,\n",
    "          n.c.UTM_MEDIUM, n.c.UTM_MEDIUM_CUSTOMISED,\n",
    "          n.c.UTM_CAMPAIGN, n.c.UTM_CAMPAIGN_CUSTOMISED, \n",
    "          n.c.UTM_ADCONTENT, n.c.UTM_ADCONTENT_CUSTOMISED,\n",
    "          n.c.UTM_KEYWORD, n.c.UTM_KEYWORD_CUSTOMISED,\n",
    "          n.c.GEO_CITY, n.c.GEO_CITY_CUSTOMISED,\n",
    "          \n",
    "          n.c.GEO_COUNTRY, \n",
    "          n.c.IS_FROM_RUSSIA_INT, \n",
    "          \n",
    "          n.c.DEVICE_CATEGORY, \n",
    "          n.c.DEVICE_OS, \n",
    "          n.c.DEVICE_BRAND, \n",
    "          n.c.DEVICE_BROWSER,\n",
    "          \n",
    "          n.c.VISIT_DATE_MONTH,\n",
    "          n.c.VISIT_DATE_WEEKDAY]\n",
    "\n",
    "chi2_l = []\n",
    "p_values_l = []\n",
    "\n",
    "\n",
    "# If feature is 1 we take her in account\n",
    "how_good_l = []\n",
    "\n",
    "def get_chi_square_test_result(x, y):\n",
    "    contingency_table = pd.crosstab(x, y)\n",
    "    return stats.chi2_contingency(contingency_table)\n",
    "\n",
    "for col_name in cols_l:\n",
    "    chi2, p, dof, expected = get_chi_square_test_result(df[col_name], df.is_target)\n",
    "\n",
    "    chi2_l.append(chi2)\n",
    "    p_values_l.append(p)\n",
    "    how_good_l.append(1-p) \n",
    "\n",
    "pd.DataFrame({'columns':cols_l, 'chi2': chi2_l, 'p-value': p_values_l, 'how_good_feature': how_good_l})"
   ],
   "metadata": {
    "collapsed": false,
    "ExecuteTime": {
     "end_time": "2023-10-08T11:52:19.261770200Z",
     "start_time": "2023-10-08T11:52:13.328953800Z"
    }
   },
   "id": "8f5ca5fff9a84216"
  },
  {
   "cell_type": "code",
   "execution_count": 26,
   "outputs": [
    {
     "name": "stdout",
     "output_type": "stream",
     "text": [
      "                                     sum_sq         df            F  \\\n",
      "visit_number                      37.299785        1.0  1323.650188   \n",
      "device_screen_resolution_mult      0.179387        1.0     6.365880   \n",
      "Residual                       48814.285418  1732263.0          NaN   \n",
      "\n",
      "                                      PR(>F)  \n",
      "visit_number                   1.055999e-289  \n",
      "device_screen_resolution_mult   1.163363e-02  \n",
      "Residual                                 NaN  \n"
     ]
    }
   ],
   "source": [
    "model = ols(f\"{n.c.IS_TARGET}\"\n",
    "            f\" ~ {n.c.VISIT_NUMBER}\"\n",
    "            f\" + {n.c.DEVICE_SCREEN_RESOLUTION_MULT}\", data=df).fit()\n",
    "\n",
    "anova_table = sm.stats.anova_lm(model, typ=2)\n",
    "print(anova_table)\n",
    "# We take all features in account cuz their p-value is less than 0.01"
   ],
   "metadata": {
    "collapsed": false,
    "ExecuteTime": {
     "end_time": "2023-10-08T11:52:19.978216Z",
     "start_time": "2023-10-08T11:52:19.269669100Z"
    }
   },
   "id": "fb54106fbd795beb"
  }
 ],
 "metadata": {
  "kernelspec": {
   "display_name": "Python 3",
   "language": "python",
   "name": "python3"
  },
  "language_info": {
   "codemirror_mode": {
    "name": "ipython",
    "version": 2
   },
   "file_extension": ".py",
   "mimetype": "text/x-python",
   "name": "python",
   "nbconvert_exporter": "python",
   "pygments_lexer": "ipython2",
   "version": "2.7.6"
  }
 },
 "nbformat": 4,
 "nbformat_minor": 5
}
